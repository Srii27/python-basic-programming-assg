{
 "cells": [
  {
   "cell_type": "markdown",
   "id": "ba0fcbc3",
   "metadata": {},
   "source": [
    "# Assignment 8 "
   ]
  },
  {
   "cell_type": "markdown",
   "id": "ea4db8ec",
   "metadata": {},
   "source": [
    "1.\tWrite a Python Program to Add Two Matrices?\n"
   ]
  },
  {
   "cell_type": "code",
   "execution_count": 1,
   "id": "8a1f149b",
   "metadata": {},
   "outputs": [
    {
     "name": "stdout",
     "output_type": "stream",
     "text": [
      "[[10 10 10]\n",
      " [10 10 10]\n",
      " [10 10 10]]\n"
     ]
    }
   ],
   "source": [
    "\n",
    "import numpy as np\n",
    "\n",
    "X = [[1,2,3],\n",
    "\t[4 ,5,6],\n",
    "\t[7 ,8,9]]\n",
    "\n",
    "Y = [[9,8,7],\n",
    "\t[6,5,4],\n",
    "\t[3,2,1]]\n",
    "\n",
    "result = np.array(X) + np.array(Y)\n",
    "\n",
    "print(result)\n"
   ]
  },
  {
   "cell_type": "markdown",
   "id": "c2ef93e9",
   "metadata": {},
   "source": [
    "2.\tWrite a Python Program to Multiply Two Matrices?\n"
   ]
  },
  {
   "cell_type": "code",
   "execution_count": 5,
   "id": "2ee43440",
   "metadata": {},
   "outputs": [
    {
     "name": "stdout",
     "output_type": "stream",
     "text": [
      "[18 24 30 14]\n",
      "[54 69 84 32]\n",
      "[ 90 114 138  50]\n"
     ]
    }
   ],
   "source": [
    "import numpy as np\n",
    "A=[[1,2,3],\n",
    "  [4,5,6],\n",
    "  [7,8,9]]\n",
    "\n",
    "B=[[7,8,9,1],\n",
    "  [4,5,6,2],\n",
    "  [1,2,3,3]]\n",
    "\n",
    "result = [[0,0,0,0],\n",
    "         [0,0,0,0],\n",
    "         [0,0,0,0]]\n",
    "result= np.dot(A,B)\n",
    "\n",
    "for r in result:\n",
    "    print(r)"
   ]
  },
  {
   "cell_type": "markdown",
   "id": "533c3418",
   "metadata": {},
   "source": [
    "3.\tWrite a Python Program to Transpose a Matrix?\n"
   ]
  },
  {
   "cell_type": "code",
   "execution_count": 6,
   "id": "a118501d",
   "metadata": {},
   "outputs": [
    {
     "name": "stdout",
     "output_type": "stream",
     "text": [
      "[[1 2 3 4]\n",
      " [1 2 3 4]\n",
      " [1 2 3 4]\n",
      " [1 2 3 4]]\n"
     ]
    }
   ],
   "source": [
    "matrix = [[1, 1, 1, 1],\n",
    "          [2, 2, 2, 2],\n",
    "          [3, 3, 3, 3],\n",
    "          [4, 4, 4, 4]]\n",
    "print(np.transpose(matrix))"
   ]
  },
  {
   "cell_type": "markdown",
   "id": "2f9ae36e",
   "metadata": {},
   "source": [
    "4.\tWrite a Python Program to Sort Words in Alphabetic Order?\n"
   ]
  },
  {
   "cell_type": "code",
   "execution_count": 9,
   "id": "ba690d4c",
   "metadata": {},
   "outputs": [
    {
     "name": "stdout",
     "output_type": "stream",
     "text": [
      "for humans humans\n"
     ]
    }
   ],
   "source": [
    "def F(S):\n",
    "    W = S.split(\" \")\n",
    "    for i in range(len(W)):\n",
    "        W[i] = W[i].lower()\n",
    "    W.sort()\n",
    " \n",
    "    # return the sorted words\n",
    "    return ' '.join(W)\n",
    " \n",
    "# Driver code\n",
    "S = \"humans for humaNs\"\n",
    "print(F(S))"
   ]
  },
  {
   "cell_type": "markdown",
   "id": "97aa9bfc",
   "metadata": {},
   "source": [
    "5.\tWrite a Python Program to Remove Punctuation From a String?\n"
   ]
  },
  {
   "cell_type": "code",
   "execution_count": 12,
   "id": "4feb519e",
   "metadata": {},
   "outputs": [
    {
     "name": "stdout",
     "output_type": "stream",
     "text": [
      "The original string is : ineuron, is best : for ! students ;\n",
      "The string after punctuation filter : ineuron is best  for  students \n"
     ]
    }
   ],
   "source": [
    "import string\n",
    "\n",
    "# initializing string\n",
    "test_str = \"ineuron, is best : for ! students ;\"\n",
    "\n",
    "print(\"The original string is : \" + test_str)\n",
    "\n",
    "# Removing punctuations using replace() method\n",
    "for punctuation in string.punctuation:\n",
    "\ttest_str = test_str.replace(punctuation, '')\n",
    "\n",
    "# printing result\n",
    "print(\"The string after punctuation filter : \" + test_str)\n"
   ]
  }
 ],
 "metadata": {
  "kernelspec": {
   "display_name": "Python 3 (ipykernel)",
   "language": "python",
   "name": "python3"
  },
  "language_info": {
   "codemirror_mode": {
    "name": "ipython",
    "version": 3
   },
   "file_extension": ".py",
   "mimetype": "text/x-python",
   "name": "python",
   "nbconvert_exporter": "python",
   "pygments_lexer": "ipython3",
   "version": "3.9.7"
  }
 },
 "nbformat": 4,
 "nbformat_minor": 5
}
