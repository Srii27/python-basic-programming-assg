{
 "cells": [
  {
   "cell_type": "markdown",
   "id": "b382b0f9",
   "metadata": {},
   "source": [
    "# Assignment 4 "
   ]
  },
  {
   "cell_type": "markdown",
   "id": "7d94ba03",
   "metadata": {},
   "source": [
    "1.\tWrite a Python Program to Find the Factorial of a Number?\n"
   ]
  },
  {
   "cell_type": "code",
   "execution_count": 1,
   "id": "2dc5b979",
   "metadata": {},
   "outputs": [
    {
     "name": "stdout",
     "output_type": "stream",
     "text": [
      "factorial of 5 is 120\n"
     ]
    }
   ],
   "source": [
    "def factorial(n):\n",
    "    return 1 if (n==0 or n==1 ) else n* factorial(n-1)\n",
    "\n",
    "n=5\n",
    "print(\"factorial of\", n , \"is\", factorial(n))"
   ]
  },
  {
   "cell_type": "markdown",
   "id": "1ac9675e",
   "metadata": {},
   "source": [
    "2.\tWrite a Python Program to Display the multiplication Table?"
   ]
  },
  {
   "cell_type": "code",
   "execution_count": 7,
   "id": "89bd880a",
   "metadata": {},
   "outputs": [
    {
     "data": {
      "text/plain": [
       "[2, 4, 6, 8, 10, 12, 14, 16, 18, 20]"
      ]
     },
     "execution_count": 7,
     "metadata": {},
     "output_type": "execute_result"
    }
   ],
   "source": [
    "def table(n):\n",
    "    l=[]\n",
    "    for i in range(1,11):\n",
    "        l.append(n*i)\n",
    "    return l\n",
    "table(2)"
   ]
  },
  {
   "cell_type": "markdown",
   "id": "c330eea1",
   "metadata": {},
   "source": [
    "3.\tWrite a Python Program to Print the Fibonacci sequence?\n"
   ]
  },
  {
   "cell_type": "code",
   "execution_count": 11,
   "id": "0978312c",
   "metadata": {},
   "outputs": [
    {
     "name": "stdout",
     "output_type": "stream",
     "text": [
      "34\n"
     ]
    }
   ],
   "source": [
    "def Fibonacci(n):\n",
    "    if n < 0:\n",
    "        print(\"Incorrect input\")\n",
    "\n",
    "    elif n == 0:\n",
    "        return 0\n",
    "\n",
    "    elif n == 1 or n == 2:\n",
    "        return 1\n",
    "\n",
    "    else:\n",
    "        return Fibonacci(n-1) + Fibonacci(n-2)\n",
    "\n",
    "print(Fibonacci(9))\n",
    "\n",
    "\n"
   ]
  },
  {
   "cell_type": "markdown",
   "id": "4a4d1bfe",
   "metadata": {},
   "source": [
    "4.\tWrite a Python Program to Check Armstrong Number?"
   ]
  },
  {
   "cell_type": "code",
   "execution_count": 12,
   "id": "fdb8efa3",
   "metadata": {},
   "outputs": [
    {
     "name": "stdout",
     "output_type": "stream",
     "text": [
      "True\n"
     ]
    }
   ],
   "source": [
    "def is_armstrong(num):\n",
    "\tnum_str = str(num)\n",
    "\tn = len(num_str)\n",
    "\tsum = 0\n",
    "\tfor digit in num_str:\n",
    "\t\tsum += int(digit)**n\n",
    "\tif sum == num:\n",
    "\t\treturn True\n",
    "\telse:\n",
    "\t\treturn False\n",
    "num=153\n",
    "print(is_armstrong(num))\n"
   ]
  },
  {
   "cell_type": "markdown",
   "id": "527101c3",
   "metadata": {},
   "source": [
    "5.\tWrite a Python Program to Find Armstrong Number in an Interval?"
   ]
  },
  {
   "cell_type": "code",
   "execution_count": 13,
   "id": "ab4d5c21",
   "metadata": {},
   "outputs": [
    {
     "name": "stdout",
     "output_type": "stream",
     "text": [
      "153\n",
      "370\n",
      "371\n",
      "407\n",
      "1634\n"
     ]
    }
   ],
   "source": [
    "lower = 100\n",
    "upper = 2000\n",
    "\n",
    "for num in range(lower, upper + 1):\n",
    "\n",
    "   # order of number\n",
    "   order = len(str(num))\n",
    "    \n",
    "   # initialize sum\n",
    "   sum = 0\n",
    "\n",
    "   temp = num\n",
    "   while temp > 0:\n",
    "       digit = temp % 10\n",
    "       sum += digit ** order\n",
    "       temp //= 10\n",
    "\n",
    "   if num == sum:\n",
    "       print(num)"
   ]
  },
  {
   "cell_type": "markdown",
   "id": "42fe3cf4",
   "metadata": {},
   "source": [
    "6.\tWrite a Python Program to Find the Sum of Natural Numbers?\n"
   ]
  },
  {
   "cell_type": "code",
   "execution_count": 14,
   "id": "60f103a7",
   "metadata": {},
   "outputs": [
    {
     "name": "stdout",
     "output_type": "stream",
     "text": [
      "the sum is  15\n"
     ]
    }
   ],
   "source": [
    "num =5\n",
    "if num<0:\n",
    "    print(\"please enter positive number\")\n",
    "else:\n",
    "    sum=0\n",
    "    while num>0:\n",
    "        sum += num\n",
    "        num -= 1\n",
    "    print(\"the sum is \", sum)\n",
    "    "
   ]
  }
 ],
 "metadata": {
  "kernelspec": {
   "display_name": "Python 3 (ipykernel)",
   "language": "python",
   "name": "python3"
  },
  "language_info": {
   "codemirror_mode": {
    "name": "ipython",
    "version": 3
   },
   "file_extension": ".py",
   "mimetype": "text/x-python",
   "name": "python",
   "nbconvert_exporter": "python",
   "pygments_lexer": "ipython3",
   "version": "3.9.7"
  }
 },
 "nbformat": 4,
 "nbformat_minor": 5
}
