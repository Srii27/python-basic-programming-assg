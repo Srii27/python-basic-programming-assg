{
 "cells": [
  {
   "cell_type": "markdown",
   "id": "27dbddb2",
   "metadata": {},
   "source": [
    "# ASSIGNMENT 2 "
   ]
  },
  {
   "cell_type": "markdown",
   "id": "4549f3d6",
   "metadata": {},
   "source": [
    "1.\tWrite a Python program to convert kilometers to miles?\n"
   ]
  },
  {
   "cell_type": "code",
   "execution_count": 2,
   "id": "1c4460b1",
   "metadata": {},
   "outputs": [
    {
     "name": "stdout",
     "output_type": "stream",
     "text": [
      "enter how many km - 5\n",
      "kilometers converted to miles -  3.106855\n"
     ]
    }
   ],
   "source": [
    "kilometers = int(input(\"enter how many km - \"))\n",
    "m = 0.621371\n",
    "miles = kilometers * m\n",
    "print(\"kilometers converted to miles - \", miles)"
   ]
  },
  {
   "cell_type": "markdown",
   "id": "0d357b36",
   "metadata": {},
   "source": [
    "2.\tWrite a Python program to convert Celsius to Fahrenheit?\n"
   ]
  },
  {
   "cell_type": "code",
   "execution_count": 9,
   "id": "ebbdcb79",
   "metadata": {},
   "outputs": [
    {
     "name": "stdout",
     "output_type": "stream",
     "text": [
      "enter the value of celsius - 40\n",
      "celsius converted to fahrenheit -  104.0\n"
     ]
    }
   ],
   "source": [
    "c = int(input('enter the value of celsius - '))\n",
    "F = ( c* 9/5 ) + 32 #fahrenheit formula\n",
    "print('celsius converted to fahrenheit - ',F )\n"
   ]
  },
  {
   "cell_type": "markdown",
   "id": "7c053177",
   "metadata": {},
   "source": [
    "3.\tWrite a Python program to display calendar?\n"
   ]
  },
  {
   "cell_type": "code",
   "execution_count": 12,
   "id": "58b2b026",
   "metadata": {},
   "outputs": [
    {
     "name": "stdout",
     "output_type": "stream",
     "text": [
      "                                  2023\n",
      "\n",
      "      January                   February                   March\n",
      "Mo Tu We Th Fr Sa Su      Mo Tu We Th Fr Sa Su      Mo Tu We Th Fr Sa Su\n",
      "                   1             1  2  3  4  5             1  2  3  4  5\n",
      " 2  3  4  5  6  7  8       6  7  8  9 10 11 12       6  7  8  9 10 11 12\n",
      " 9 10 11 12 13 14 15      13 14 15 16 17 18 19      13 14 15 16 17 18 19\n",
      "16 17 18 19 20 21 22      20 21 22 23 24 25 26      20 21 22 23 24 25 26\n",
      "23 24 25 26 27 28 29      27 28                     27 28 29 30 31\n",
      "30 31\n",
      "\n",
      "       April                      May                       June\n",
      "Mo Tu We Th Fr Sa Su      Mo Tu We Th Fr Sa Su      Mo Tu We Th Fr Sa Su\n",
      "                1  2       1  2  3  4  5  6  7                1  2  3  4\n",
      " 3  4  5  6  7  8  9       8  9 10 11 12 13 14       5  6  7  8  9 10 11\n",
      "10 11 12 13 14 15 16      15 16 17 18 19 20 21      12 13 14 15 16 17 18\n",
      "17 18 19 20 21 22 23      22 23 24 25 26 27 28      19 20 21 22 23 24 25\n",
      "24 25 26 27 28 29 30      29 30 31                  26 27 28 29 30\n",
      "\n",
      "        July                     August                  September\n",
      "Mo Tu We Th Fr Sa Su      Mo Tu We Th Fr Sa Su      Mo Tu We Th Fr Sa Su\n",
      "                1  2          1  2  3  4  5  6                   1  2  3\n",
      " 3  4  5  6  7  8  9       7  8  9 10 11 12 13       4  5  6  7  8  9 10\n",
      "10 11 12 13 14 15 16      14 15 16 17 18 19 20      11 12 13 14 15 16 17\n",
      "17 18 19 20 21 22 23      21 22 23 24 25 26 27      18 19 20 21 22 23 24\n",
      "24 25 26 27 28 29 30      28 29 30 31               25 26 27 28 29 30\n",
      "31\n",
      "\n",
      "      October                   November                  December\n",
      "Mo Tu We Th Fr Sa Su      Mo Tu We Th Fr Sa Su      Mo Tu We Th Fr Sa Su\n",
      "                   1             1  2  3  4  5                   1  2  3\n",
      " 2  3  4  5  6  7  8       6  7  8  9 10 11 12       4  5  6  7  8  9 10\n",
      " 9 10 11 12 13 14 15      13 14 15 16 17 18 19      11 12 13 14 15 16 17\n",
      "16 17 18 19 20 21 22      20 21 22 23 24 25 26      18 19 20 21 22 23 24\n",
      "23 24 25 26 27 28 29      27 28 29 30               25 26 27 28 29 30 31\n",
      "30 31\n",
      "\n"
     ]
    }
   ],
   "source": [
    "import calendar\n",
    "yy=2023\n",
    "print(calendar.calendar(yy))"
   ]
  },
  {
   "cell_type": "markdown",
   "id": "e3bc5dc4",
   "metadata": {},
   "source": [
    "4.\tWrite a Python program to solve quadratic equation?"
   ]
  },
  {
   "cell_type": "code",
   "execution_count": 14,
   "id": "205d83eb",
   "metadata": {},
   "outputs": [
    {
     "name": "stdout",
     "output_type": "stream",
     "text": [
      " real and different roots \n",
      "2.0\n",
      "-12.0\n"
     ]
    }
   ],
   "source": [
    "# Python program to find roots of quadratic equation\n",
    "import math\n",
    "\n",
    "\n",
    "# function for finding roots\n",
    "def equationroots( a, b, c):\n",
    "\n",
    "\t# calculating discriminant using formula\n",
    "\tdis = b * b - 4 * a * c\n",
    "\tsqrt_val = math.sqrt(abs(dis))\n",
    "\t\n",
    "\t# checking condition for discriminant\n",
    "\tif dis > 0:\n",
    "\t\tprint(\" real and different roots \")\n",
    "\t\tprint((-b + sqrt_val)/(2 * a))\n",
    "\t\tprint((-b - sqrt_val)/(2 * a))\n",
    "\t\n",
    "\telif dis == 0:\n",
    "\t\tprint(\" real and same roots\")\n",
    "\t\tprint(-b / (2 * a))\n",
    "\t\n",
    "\t# when discriminant is less than 0\n",
    "\telse:\n",
    "\t\tprint(\"Complex Roots\")\n",
    "\t\tprint(- b / (2 * a), \" + i\", sqrt_val)\n",
    "\t\tprint(- b / (2 * a), \" - i\", sqrt_val)\n",
    "\n",
    "# Driver Program\n",
    "a = 1\n",
    "b = 10\n",
    "c = -24\n",
    "\n",
    "# If a is 0, then incorrect equation\n",
    "if a == 0:\n",
    "    print(\"Input correct quadratic equation\")\n",
    "\n",
    "else:\n",
    "\tequationroots(a, b, c)\n"
   ]
  },
  {
   "cell_type": "markdown",
   "id": "6f191af6",
   "metadata": {},
   "source": [
    "\n",
    "5.\tWrite a Python program to swap two variables without temp variable?\n",
    "\n"
   ]
  },
  {
   "cell_type": "code",
   "execution_count": 15,
   "id": "ccdc96ef",
   "metadata": {},
   "outputs": [
    {
     "name": "stdout",
     "output_type": "stream",
     "text": [
      "5\n",
      "3\n"
     ]
    }
   ],
   "source": [
    "x=3\n",
    "y=5\n",
    "x,y=y,x\n",
    "print(x)\n",
    "print(y)"
   ]
  }
 ],
 "metadata": {
  "kernelspec": {
   "display_name": "Python 3 (ipykernel)",
   "language": "python",
   "name": "python3"
  },
  "language_info": {
   "codemirror_mode": {
    "name": "ipython",
    "version": 3
   },
   "file_extension": ".py",
   "mimetype": "text/x-python",
   "name": "python",
   "nbconvert_exporter": "python",
   "pygments_lexer": "ipython3",
   "version": "3.9.7"
  }
 },
 "nbformat": 4,
 "nbformat_minor": 5
}
